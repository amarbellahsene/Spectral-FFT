{
 "cells": [
  {
   "cell_type": "markdown",
   "id": "fd26326c",
   "metadata": {},
   "source": [
    "#### FFTW from module pyFFTW \n",
    "\n",
    "Examples of use. The Fast Fourier transform can be used from the \n",
    "numpy module *numpy.fft* and the documentation for this module will\n",
    "be enough to get going with Fourier transform. \n",
    "\n",
    "Here instead we advocate the *pyFFTW* package which actually is a \n",
    "port of the original fftw algorithm in C/C++ (with built-in optimisation). \n",
    "\n",
    "\n",
    "\n",
    "<div class=\"alert alert-block alert-info\">\n",
    "If the pyFFTW package is not installed, you may install it in your own virtual environment with the <it> pip </it>  utility. This was discussed during the first semester. \n",
    "</div>"
   ]
  },
  {
   "cell_type": "markdown",
   "id": "e9973282",
   "metadata": {},
   "source": [
    "__Modules to load up__ "
   ]
  },
  {
   "cell_type": "code",
   "execution_count": 1,
   "id": "25a8d0b8",
   "metadata": {},
   "outputs": [],
   "source": [
    "import numpy as np \n",
    "import pyfftw\n",
    "from IPython.display import display, Markdown, Math"
   ]
  },
  {
   "cell_type": "markdown",
   "id": "df755d2e",
   "metadata": {},
   "source": [
    "__Two examples in 1D__ \n",
    "\n",
    "We always use complex variables but in principle that should be \n",
    "essential especially when using the _builder_ approach (see below). "
   ]
  },
  {
   "cell_type": "code",
   "execution_count": 114,
   "id": "2ee05154",
   "metadata": {},
   "outputs": [
    {
     "name": "stdout",
     "output_type": "stream",
     "text": [
      "<class 'numpy.ndarray'> (64,)\n",
      "<class 'numpy.ndarray'> (64,) True\n"
     ]
    },
    {
     "data": {
      "text/latex": [
       "$\\displaystyle  0\\ k/2\\pi, \\lambda :  0\\ \\ 0.0000\\  \\,coeff\\, = (-0.0000+0.0000j)$"
      ],
      "text/plain": [
       "<IPython.core.display.Math object>"
      ]
     },
     "metadata": {},
     "output_type": "display_data"
    },
    {
     "data": {
      "text/latex": [
       "$\\displaystyle  1\\ k/2\\pi, \\lambda :  2\\ \\ 0.0312\\  \\,coeff\\, = (0.0127-0.2583j)$"
      ],
      "text/plain": [
       "<IPython.core.display.Math object>"
      ]
     },
     "metadata": {},
     "output_type": "display_data"
    },
    {
     "data": {
      "text/latex": [
       "$\\displaystyle  2\\ k/2\\pi, \\lambda :  4\\ \\ 0.0625\\  \\,coeff\\, = (0.0629-0.6389j)$"
      ],
      "text/plain": [
       "<IPython.core.display.Math object>"
      ]
     },
     "metadata": {},
     "output_type": "display_data"
    },
    {
     "data": {
      "text/latex": [
       "$\\displaystyle  3\\ k/2\\pi, \\lambda :  6\\ \\ 0.0938\\  \\,coeff\\, = (0.2358-1.5897j)$"
      ],
      "text/plain": [
       "<IPython.core.display.Math object>"
      ]
     },
     "metadata": {},
     "output_type": "display_data"
    },
    {
     "data": {
      "text/latex": [
       "$\\displaystyle  4\\ k/2\\pi, \\lambda :  8\\ \\ 0.1250\\  \\,coeff\\, = (6.1515-30.9255j)$"
      ],
      "text/plain": [
       "<IPython.core.display.Math object>"
      ]
     },
     "metadata": {},
     "output_type": "display_data"
    },
    {
     "data": {
      "text/latex": [
       "$\\displaystyle  5\\ k/2\\pi, \\lambda : 10\\ \\ 0.1562\\  \\,coeff\\, = (-0.5798+2.3146j)$"
      ],
      "text/plain": [
       "<IPython.core.display.Math object>"
      ]
     },
     "metadata": {},
     "output_type": "display_data"
    },
    {
     "data": {
      "text/latex": [
       "$\\displaystyle  6\\ k/2\\pi, \\lambda : 12\\ \\ 0.1875\\  \\,coeff\\, = (-0.3637+1.1988j)$"
      ],
      "text/plain": [
       "<IPython.core.display.Math object>"
      ]
     },
     "metadata": {},
     "output_type": "display_data"
    },
    {
     "data": {
      "text/latex": [
       "$\\displaystyle  7\\ k/2\\pi, \\lambda : 14\\ \\ 0.2188\\  \\,coeff\\, = (-0.2969+0.8299j)$"
      ],
      "text/plain": [
       "<IPython.core.display.Math object>"
      ]
     },
     "metadata": {},
     "output_type": "display_data"
    },
    {
     "data": {
      "text/latex": [
       "$\\displaystyle  8\\ k/2\\pi, \\lambda : 16\\ \\ 0.2500\\  \\,coeff\\, = (-0.2654+0.6406j)$"
      ],
      "text/plain": [
       "<IPython.core.display.Math object>"
      ]
     },
     "metadata": {},
     "output_type": "display_data"
    },
    {
     "data": {
      "text/latex": [
       "$\\displaystyle  9\\ k/2\\pi, \\lambda : 18\\ \\ 0.2812\\  \\,coeff\\, = (-0.2473+0.5230j)$"
      ],
      "text/plain": [
       "<IPython.core.display.Math object>"
      ]
     },
     "metadata": {},
     "output_type": "display_data"
    },
    {
     "data": {
      "text/latex": [
       "$\\displaystyle 10\\ k/2\\pi, \\lambda : 20\\ \\ 0.3125\\  \\,coeff\\, = (-0.2359+0.4413j)$"
      ],
      "text/plain": [
       "<IPython.core.display.Math object>"
      ]
     },
     "metadata": {},
     "output_type": "display_data"
    },
    {
     "data": {
      "text/latex": [
       "$\\displaystyle 11\\ k/2\\pi, \\lambda : 22\\ \\ 0.3438\\  \\,coeff\\, = (-0.2281+0.3806j)$"
      ],
      "text/plain": [
       "<IPython.core.display.Math object>"
      ]
     },
     "metadata": {},
     "output_type": "display_data"
    },
    {
     "data": {
      "text/latex": [
       "$\\displaystyle 12\\ k/2\\pi, \\lambda : 24\\ \\ 0.3750\\  \\,coeff\\, = (-0.2225+0.3330j)$"
      ],
      "text/plain": [
       "<IPython.core.display.Math object>"
      ]
     },
     "metadata": {},
     "output_type": "display_data"
    },
    {
     "data": {
      "text/latex": [
       "$\\displaystyle 13\\ k/2\\pi, \\lambda : 26\\ \\ 0.4062\\  \\,coeff\\, = (-0.2184+0.2945j)$"
      ],
      "text/plain": [
       "<IPython.core.display.Math object>"
      ]
     },
     "metadata": {},
     "output_type": "display_data"
    },
    {
     "data": {
      "text/latex": [
       "$\\displaystyle 14\\ k/2\\pi, \\lambda : 28\\ \\ 0.4375\\  \\,coeff\\, = (-0.2152+0.2622j)$"
      ],
      "text/plain": [
       "<IPython.core.display.Math object>"
      ]
     },
     "metadata": {},
     "output_type": "display_data"
    },
    {
     "data": {
      "text/latex": [
       "$\\displaystyle 15\\ k/2\\pi, \\lambda : 30\\ \\ 0.4688\\  \\,coeff\\, = (-0.2127+0.2347j)$"
      ],
      "text/plain": [
       "<IPython.core.display.Math object>"
      ]
     },
     "metadata": {},
     "output_type": "display_data"
    },
    {
     "data": {
      "text/latex": [
       "$\\displaystyle 16\\ k/2\\pi, \\lambda : 32\\ \\ 0.5000\\  \\,coeff\\, = (-0.2108+0.2108j)$"
      ],
      "text/plain": [
       "<IPython.core.display.Math object>"
      ]
     },
     "metadata": {},
     "output_type": "display_data"
    },
    {
     "data": {
      "text/latex": [
       "$\\displaystyle 17\\ k/2\\pi, \\lambda : 34\\ \\ 0.5312\\  \\,coeff\\, = (-0.2092+0.1896j)$"
      ],
      "text/plain": [
       "<IPython.core.display.Math object>"
      ]
     },
     "metadata": {},
     "output_type": "display_data"
    },
    {
     "data": {
      "text/latex": [
       "$\\displaystyle 18\\ k/2\\pi, \\lambda : 36\\ \\ 0.5625\\  \\,coeff\\, = (-0.2079+0.1706j)$"
      ],
      "text/plain": [
       "<IPython.core.display.Math object>"
      ]
     },
     "metadata": {},
     "output_type": "display_data"
    },
    {
     "data": {
      "text/latex": [
       "$\\displaystyle 19\\ k/2\\pi, \\lambda : 38\\ \\ 0.5938\\  \\,coeff\\, = (-0.2068+0.1534j)$"
      ],
      "text/plain": [
       "<IPython.core.display.Math object>"
      ]
     },
     "metadata": {},
     "output_type": "display_data"
    },
    {
     "data": {
      "text/latex": [
       "$\\displaystyle 20\\ k/2\\pi, \\lambda : 40\\ \\ 0.6250\\  \\,coeff\\, = (-0.2059+0.1376j)$"
      ],
      "text/plain": [
       "<IPython.core.display.Math object>"
      ]
     },
     "metadata": {},
     "output_type": "display_data"
    },
    {
     "data": {
      "text/latex": [
       "$\\displaystyle 21\\ k/2\\pi, \\lambda : 42\\ \\ 0.6562\\  \\,coeff\\, = (-0.2052+0.1230j)$"
      ],
      "text/plain": [
       "<IPython.core.display.Math object>"
      ]
     },
     "metadata": {},
     "output_type": "display_data"
    },
    {
     "data": {
      "text/latex": [
       "$\\displaystyle 22\\ k/2\\pi, \\lambda : 44\\ \\ 0.6875\\  \\,coeff\\, = (-0.2045+0.1093j)$"
      ],
      "text/plain": [
       "<IPython.core.display.Math object>"
      ]
     },
     "metadata": {},
     "output_type": "display_data"
    },
    {
     "data": {
      "text/latex": [
       "$\\displaystyle 23\\ k/2\\pi, \\lambda : 46\\ \\ 0.7188\\  \\,coeff\\, = (-0.2040+0.0965j)$"
      ],
      "text/plain": [
       "<IPython.core.display.Math object>"
      ]
     },
     "metadata": {},
     "output_type": "display_data"
    },
    {
     "data": {
      "text/latex": [
       "$\\displaystyle 24\\ k/2\\pi, \\lambda : 48\\ \\ 0.7500\\  \\,coeff\\, = (-0.2036+0.0843j)$"
      ],
      "text/plain": [
       "<IPython.core.display.Math object>"
      ]
     },
     "metadata": {},
     "output_type": "display_data"
    },
    {
     "data": {
      "text/latex": [
       "$\\displaystyle 25\\ k/2\\pi, \\lambda : 50\\ \\ 0.7812\\  \\,coeff\\, = (-0.2032+0.0727j)$"
      ],
      "text/plain": [
       "<IPython.core.display.Math object>"
      ]
     },
     "metadata": {},
     "output_type": "display_data"
    },
    {
     "data": {
      "text/latex": [
       "$\\displaystyle 26\\ k/2\\pi, \\lambda : 52\\ \\ 0.8125\\  \\,coeff\\, = (-0.2029+0.0616j)$"
      ],
      "text/plain": [
       "<IPython.core.display.Math object>"
      ]
     },
     "metadata": {},
     "output_type": "display_data"
    },
    {
     "data": {
      "text/latex": [
       "$\\displaystyle 27\\ k/2\\pi, \\lambda : 54\\ \\ 0.8438\\  \\,coeff\\, = (-0.2027+0.0508j)$"
      ],
      "text/plain": [
       "<IPython.core.display.Math object>"
      ]
     },
     "metadata": {},
     "output_type": "display_data"
    },
    {
     "data": {
      "text/latex": [
       "$\\displaystyle 28\\ k/2\\pi, \\lambda : 56\\ \\ 0.8750\\  \\,coeff\\, = (-0.2025+0.0403j)$"
      ],
      "text/plain": [
       "<IPython.core.display.Math object>"
      ]
     },
     "metadata": {},
     "output_type": "display_data"
    },
    {
     "data": {
      "text/latex": [
       "$\\displaystyle 29\\ k/2\\pi, \\lambda : 58\\ \\ 0.9062\\  \\,coeff\\, = (-0.2023+0.0300j)$"
      ],
      "text/plain": [
       "<IPython.core.display.Math object>"
      ]
     },
     "metadata": {},
     "output_type": "display_data"
    },
    {
     "data": {
      "text/latex": [
       "$\\displaystyle 30\\ k/2\\pi, \\lambda : 60\\ \\ 0.9375\\  \\,coeff\\, = (-0.2022+0.0199j)$"
      ],
      "text/plain": [
       "<IPython.core.display.Math object>"
      ]
     },
     "metadata": {},
     "output_type": "display_data"
    },
    {
     "data": {
      "text/latex": [
       "$\\displaystyle 31\\ k/2\\pi, \\lambda : 62\\ \\ 0.9688\\  \\,coeff\\, = (-0.2022+0.0099j)$"
      ],
      "text/plain": [
       "<IPython.core.display.Math object>"
      ]
     },
     "metadata": {},
     "output_type": "display_data"
    },
    {
     "data": {
      "text/latex": [
       "$\\displaystyle 32\\ k/2\\pi, \\lambda : 64\\ \\ -1.0000\\  \\,coeff\\, = (-0.2022+0.0000j)$"
      ],
      "text/plain": [
       "<IPython.core.display.Math object>"
      ]
     },
     "metadata": {},
     "output_type": "display_data"
    },
    {
     "data": {
      "text/latex": [
       "$\\displaystyle 33\\ k/2\\pi, \\lambda : 66\\ \\ -0.9688\\  \\,coeff\\, = (-0.2022-0.0099j)$"
      ],
      "text/plain": [
       "<IPython.core.display.Math object>"
      ]
     },
     "metadata": {},
     "output_type": "display_data"
    },
    {
     "data": {
      "text/latex": [
       "$\\displaystyle 34\\ k/2\\pi, \\lambda : 68\\ \\ -0.9375\\  \\,coeff\\, = (-0.2022-0.0199j)$"
      ],
      "text/plain": [
       "<IPython.core.display.Math object>"
      ]
     },
     "metadata": {},
     "output_type": "display_data"
    },
    {
     "data": {
      "text/latex": [
       "$\\displaystyle 35\\ k/2\\pi, \\lambda : 70\\ \\ -0.9062\\  \\,coeff\\, = (-0.2023-0.0300j)$"
      ],
      "text/plain": [
       "<IPython.core.display.Math object>"
      ]
     },
     "metadata": {},
     "output_type": "display_data"
    },
    {
     "data": {
      "text/latex": [
       "$\\displaystyle 36\\ k/2\\pi, \\lambda : 72\\ \\ -0.8750\\  \\,coeff\\, = (-0.2025-0.0403j)$"
      ],
      "text/plain": [
       "<IPython.core.display.Math object>"
      ]
     },
     "metadata": {},
     "output_type": "display_data"
    },
    {
     "data": {
      "text/latex": [
       "$\\displaystyle 37\\ k/2\\pi, \\lambda : 74\\ \\ -0.8438\\  \\,coeff\\, = (-0.2027-0.0508j)$"
      ],
      "text/plain": [
       "<IPython.core.display.Math object>"
      ]
     },
     "metadata": {},
     "output_type": "display_data"
    },
    {
     "data": {
      "text/latex": [
       "$\\displaystyle 38\\ k/2\\pi, \\lambda : 76\\ \\ -0.8125\\  \\,coeff\\, = (-0.2029-0.0616j)$"
      ],
      "text/plain": [
       "<IPython.core.display.Math object>"
      ]
     },
     "metadata": {},
     "output_type": "display_data"
    },
    {
     "data": {
      "text/latex": [
       "$\\displaystyle 39\\ k/2\\pi, \\lambda : 78\\ \\ -0.7812\\  \\,coeff\\, = (-0.2032-0.0727j)$"
      ],
      "text/plain": [
       "<IPython.core.display.Math object>"
      ]
     },
     "metadata": {},
     "output_type": "display_data"
    },
    {
     "data": {
      "text/latex": [
       "$\\displaystyle 40\\ k/2\\pi, \\lambda : 80\\ \\ -0.7500\\  \\,coeff\\, = (-0.2036-0.0843j)$"
      ],
      "text/plain": [
       "<IPython.core.display.Math object>"
      ]
     },
     "metadata": {},
     "output_type": "display_data"
    },
    {
     "data": {
      "text/latex": [
       "$\\displaystyle 41\\ k/2\\pi, \\lambda : 82\\ \\ -0.7188\\  \\,coeff\\, = (-0.2040-0.0965j)$"
      ],
      "text/plain": [
       "<IPython.core.display.Math object>"
      ]
     },
     "metadata": {},
     "output_type": "display_data"
    },
    {
     "data": {
      "text/latex": [
       "$\\displaystyle 42\\ k/2\\pi, \\lambda : 84\\ \\ -0.6875\\  \\,coeff\\, = (-0.2045-0.1093j)$"
      ],
      "text/plain": [
       "<IPython.core.display.Math object>"
      ]
     },
     "metadata": {},
     "output_type": "display_data"
    },
    {
     "data": {
      "text/latex": [
       "$\\displaystyle 43\\ k/2\\pi, \\lambda : 86\\ \\ -0.6562\\  \\,coeff\\, = (-0.2052-0.1230j)$"
      ],
      "text/plain": [
       "<IPython.core.display.Math object>"
      ]
     },
     "metadata": {},
     "output_type": "display_data"
    },
    {
     "data": {
      "text/latex": [
       "$\\displaystyle 44\\ k/2\\pi, \\lambda : 88\\ \\ -0.6250\\  \\,coeff\\, = (-0.2059-0.1376j)$"
      ],
      "text/plain": [
       "<IPython.core.display.Math object>"
      ]
     },
     "metadata": {},
     "output_type": "display_data"
    },
    {
     "data": {
      "text/latex": [
       "$\\displaystyle 45\\ k/2\\pi, \\lambda : 90\\ \\ -0.5938\\  \\,coeff\\, = (-0.2068-0.1534j)$"
      ],
      "text/plain": [
       "<IPython.core.display.Math object>"
      ]
     },
     "metadata": {},
     "output_type": "display_data"
    },
    {
     "data": {
      "text/latex": [
       "$\\displaystyle 46\\ k/2\\pi, \\lambda : 92\\ \\ -0.5625\\  \\,coeff\\, = (-0.2079-0.1706j)$"
      ],
      "text/plain": [
       "<IPython.core.display.Math object>"
      ]
     },
     "metadata": {},
     "output_type": "display_data"
    },
    {
     "data": {
      "text/latex": [
       "$\\displaystyle 47\\ k/2\\pi, \\lambda : 94\\ \\ -0.5312\\  \\,coeff\\, = (-0.2092-0.1896j)$"
      ],
      "text/plain": [
       "<IPython.core.display.Math object>"
      ]
     },
     "metadata": {},
     "output_type": "display_data"
    },
    {
     "data": {
      "text/latex": [
       "$\\displaystyle 48\\ k/2\\pi, \\lambda : 96\\ \\ -0.5000\\  \\,coeff\\, = (-0.2108-0.2108j)$"
      ],
      "text/plain": [
       "<IPython.core.display.Math object>"
      ]
     },
     "metadata": {},
     "output_type": "display_data"
    },
    {
     "data": {
      "text/latex": [
       "$\\displaystyle 49\\ k/2\\pi, \\lambda : 98\\ \\ -0.4688\\  \\,coeff\\, = (-0.2127-0.2347j)$"
      ],
      "text/plain": [
       "<IPython.core.display.Math object>"
      ]
     },
     "metadata": {},
     "output_type": "display_data"
    },
    {
     "data": {
      "text/latex": [
       "$\\displaystyle 50\\ k/2\\pi, \\lambda : 100\\ \\ -0.4375\\  \\,coeff\\, = (-0.2152-0.2622j)$"
      ],
      "text/plain": [
       "<IPython.core.display.Math object>"
      ]
     },
     "metadata": {},
     "output_type": "display_data"
    },
    {
     "data": {
      "text/latex": [
       "$\\displaystyle 51\\ k/2\\pi, \\lambda : 102\\ \\ -0.4062\\  \\,coeff\\, = (-0.2184-0.2945j)$"
      ],
      "text/plain": [
       "<IPython.core.display.Math object>"
      ]
     },
     "metadata": {},
     "output_type": "display_data"
    },
    {
     "data": {
      "text/latex": [
       "$\\displaystyle 52\\ k/2\\pi, \\lambda : 104\\ \\ -0.3750\\  \\,coeff\\, = (-0.2225-0.3330j)$"
      ],
      "text/plain": [
       "<IPython.core.display.Math object>"
      ]
     },
     "metadata": {},
     "output_type": "display_data"
    },
    {
     "data": {
      "text/latex": [
       "$\\displaystyle 53\\ k/2\\pi, \\lambda : 106\\ \\ -0.3438\\  \\,coeff\\, = (-0.2281-0.3806j)$"
      ],
      "text/plain": [
       "<IPython.core.display.Math object>"
      ]
     },
     "metadata": {},
     "output_type": "display_data"
    },
    {
     "data": {
      "text/latex": [
       "$\\displaystyle 54\\ k/2\\pi, \\lambda : 108\\ \\ -0.3125\\  \\,coeff\\, = (-0.2359-0.4413j)$"
      ],
      "text/plain": [
       "<IPython.core.display.Math object>"
      ]
     },
     "metadata": {},
     "output_type": "display_data"
    },
    {
     "data": {
      "text/latex": [
       "$\\displaystyle 55\\ k/2\\pi, \\lambda : 110\\ \\ -0.2812\\  \\,coeff\\, = (-0.2473-0.5230j)$"
      ],
      "text/plain": [
       "<IPython.core.display.Math object>"
      ]
     },
     "metadata": {},
     "output_type": "display_data"
    },
    {
     "data": {
      "text/latex": [
       "$\\displaystyle 56\\ k/2\\pi, \\lambda : 112\\ \\ -0.2500\\  \\,coeff\\, = (-0.2654-0.6406j)$"
      ],
      "text/plain": [
       "<IPython.core.display.Math object>"
      ]
     },
     "metadata": {},
     "output_type": "display_data"
    },
    {
     "data": {
      "text/latex": [
       "$\\displaystyle 57\\ k/2\\pi, \\lambda : 114\\ \\ -0.2188\\  \\,coeff\\, = (-0.2969-0.8299j)$"
      ],
      "text/plain": [
       "<IPython.core.display.Math object>"
      ]
     },
     "metadata": {},
     "output_type": "display_data"
    },
    {
     "data": {
      "text/latex": [
       "$\\displaystyle 58\\ k/2\\pi, \\lambda : 116\\ \\ -0.1875\\  \\,coeff\\, = (-0.3637-1.1988j)$"
      ],
      "text/plain": [
       "<IPython.core.display.Math object>"
      ]
     },
     "metadata": {},
     "output_type": "display_data"
    },
    {
     "data": {
      "text/latex": [
       "$\\displaystyle 59\\ k/2\\pi, \\lambda : 118\\ \\ -0.1562\\  \\,coeff\\, = (-0.5798-2.3146j)$"
      ],
      "text/plain": [
       "<IPython.core.display.Math object>"
      ]
     },
     "metadata": {},
     "output_type": "display_data"
    },
    {
     "data": {
      "text/latex": [
       "$\\displaystyle 60\\ k/2\\pi, \\lambda : 120\\ \\ -0.1250\\  \\,coeff\\, = (6.1515+30.9255j)$"
      ],
      "text/plain": [
       "<IPython.core.display.Math object>"
      ]
     },
     "metadata": {},
     "output_type": "display_data"
    },
    {
     "data": {
      "text/latex": [
       "$\\displaystyle 61\\ k/2\\pi, \\lambda : 122\\ \\ -0.0938\\  \\,coeff\\, = (0.2358+1.5897j)$"
      ],
      "text/plain": [
       "<IPython.core.display.Math object>"
      ]
     },
     "metadata": {},
     "output_type": "display_data"
    },
    {
     "data": {
      "text/latex": [
       "$\\displaystyle 62\\ k/2\\pi, \\lambda : 124\\ \\ -0.0625\\  \\,coeff\\, = (0.0629+0.6389j)$"
      ],
      "text/plain": [
       "<IPython.core.display.Math object>"
      ]
     },
     "metadata": {},
     "output_type": "display_data"
    },
    {
     "data": {
      "text/latex": [
       "$\\displaystyle 63\\ k/2\\pi, \\lambda : 126\\ \\ -0.0312\\  \\,coeff\\, = (0.0127+0.2583j)$"
      ],
      "text/plain": [
       "<IPython.core.display.Math object>"
      ]
     },
     "metadata": {},
     "output_type": "display_data"
    }
   ],
   "source": [
    "# Tests 1d \n",
    "#\n",
    "TYPE = \"complex128\"\n",
    "N = 64\n",
    "a = pyfftw.empty_aligned(N, dtype=TYPE) \n",
    "b = pyfftw.empty_aligned(N, dtype=TYPE)\n",
    "\n",
    "# The transformation object take \"a\" to \"b\" in Fourier space.\n",
    "fft_object = pyfftw.FFTW(a, b)\n",
    "\n",
    "# Generate some data - random (white noise), single Fourier mode\n",
    "#\n",
    "# 1) White noise (unit amplitude)\n",
    "ar, ai = np.random.randn(2, N)\n",
    "a[:] = ar + 1j*ai*0\n",
    "\n",
    "# 2) Fourier mode\n",
    "x = np.linspace( -16, +16, N )  # increment dx = delta = 1 ; 32 = N/2 \n",
    "k = 8*2*np.pi   # Wavenumber k is a multiple of 2pi \n",
    "a[:] = np.sin( k*x )      # Signal : a simple sine wave  \n",
    "if( TYPE == \"complex128\"):\n",
    "    a[:] += 1j*x*0        # The imaginary part is set to 0. \n",
    "\n",
    "Delta = ( x.max() - x.min() ) / N \n",
    "\n",
    "# Perform the FFT : forward default direction \n",
    "#\n",
    "fft_ = fft_object() \n",
    "print( type(x), x.shape ) \n",
    "print( type(a), a.shape, fft_ is b )\n",
    "\n",
    "# Recover wavenumbers / frequencies from FFT : \n",
    "#\n",
    "wavenumbers = np.fft.fftfreq(len(x))\n",
    "for i, lambda_ in enumerate(wavenumbers):\n",
    "    display(Math(\\\n",
    "    r\"{index:2d}\\ k/2\\pi, \\lambda : {kappa:2d}\\ \\ {lamb:6.4f}\\  \\,coeff\\, = ({bb:6.4f})\".format(index=i, kappa=int(i/Delta), lamb=lambda_/Delta , bb=b[i])))"
   ]
  },
  {
   "cell_type": "markdown",
   "id": "a78f2699",
   "metadata": {},
   "source": [
    "<div class=\"alert alert-block alert-info\">\n",
    "    Note - changing the range of $x: -32 \\rightarrow +32$, will change the \n",
    "    definition of the step $dx = \\Delta = 1$. For the wavenumbers, we  have </div> \n",
    "$ k_n = \\frac{n}{N\\Delta}, n = -N/2, ... +N/2 $ \n",
    "<div class=\"alert alert-block alert-info\">\n",
    "So, for example, if $x$ is rescaled to $x: -16 \\rightarrow +16$, \n",
    "then the new increment $\\Delta = 1/2$ and the new wavenumber $k$ is\n",
    "changed to index $n = 8 / 2 = 4$. The physical wavenumber is still 8 (in units of 2$\\pi$), but the index in the vecteur is changed !\n",
    "</div>  \n",
    "    \n",
    "    "
   ]
  },
  {
   "cell_type": "code",
   "execution_count": 111,
   "id": "35a400bf",
   "metadata": {},
   "outputs": [
    {
     "name": "stdout",
     "output_type": "stream",
     "text": [
      "(953.8941767721469+0j) 953.894176772147\n"
     ]
    }
   ],
   "source": [
    "bb = b*b.conjugate() \n",
    "print( bb[8], np.max( bb.real ) )"
   ]
  },
  {
   "cell_type": "code",
   "execution_count": 97,
   "id": "8b105c3a",
   "metadata": {},
   "outputs": [
    {
     "name": "stdout",
     "output_type": "stream",
     "text": [
      "True\n",
      "True\n"
     ]
    }
   ],
   "source": [
    "# Backward FFT : \n",
    "#\n",
    "c = pyfftw.empty_aligned(N, dtype=TYPE)\n",
    "ifft_object = pyfftw.FFTW(b, c, direction='FFTW_BACKWARD')\n",
    "\n",
    "ifft_ = ifft_object() \n",
    "print( np.allclose(ifft_,c, rtol=1.e-15) )\n",
    "print( np.allclose(a,c, rtol=1.e-13) )"
   ]
  },
  {
   "cell_type": "markdown",
   "id": "b696ca1d",
   "metadata": {},
   "source": [
    "__Check that the reverse FFT recovers the original signal__"
   ]
  },
  {
   "cell_type": "code",
   "execution_count": 98,
   "id": "5ff2ee62",
   "metadata": {},
   "outputs": [
    {
     "data": {
      "text/plain": [
       "True"
      ]
     },
     "execution_count": 98,
     "metadata": {},
     "output_type": "execute_result"
    }
   ],
   "source": [
    "np.allclose( c, np.sin( k*x ) + 1j*ai*0, rtol=1.e-13 ) "
   ]
  },
  {
   "cell_type": "markdown",
   "id": "0035c00b",
   "metadata": {},
   "source": [
    "__Examples using a 2D signal__ \n",
    "\n",
    "This is done using a numpy mesh in _x_ and _y_ . "
   ]
  },
  {
   "cell_type": "code",
   "execution_count": 3,
   "id": "146da93f",
   "metadata": {},
   "outputs": [],
   "source": [
    "# Try a 2D distribution \n",
    "#\n",
    "N  = 64\n",
    "k = 2*np.pi \n",
    "TYPE = \"complex128\"\n",
    "x,y = np.linspace( -np.pi, +np.pi, N, dtype=TYPE), np.linspace( -np.pi, np.pi,N, dtype=TYPE)\n",
    "\n",
    "X,Y = np.meshgrid( x, y )\n",
    "\n",
    "a = pyfftw.empty_aligned((N, N), dtype=TYPE)\n",
    "a[:] = np.sin( k*X ) + np.cos( k/2*Y ) \n",
    "if( TYPE == \"complex128\"):\n",
    "    a[:] += 1j*X*0\n",
    "\n",
    "b = pyfftw.empty_aligned((N,N), dtype=TYPE)\n",
    "\n",
    "# Plan an fft over the last axis\n",
    "#fft_object_a = pyfftw.FFTW(a, b)\n",
    "#\n",
    "# Over the first axis only \n",
    "#fft_object_b = pyfftw.FFTW(a, b, axes=(0,))\n",
    "\n",
    "# Over the two axes : The solution is stored un \"b\"\n",
    "#\n",
    "fft_object_2d = pyfftw.FFTW(a, b, axes=(0,1))\n"
   ]
  },
  {
   "cell_type": "raw",
   "id": "4c230819",
   "metadata": {},
   "source": [
    "Perform the actual FFT : "
   ]
  },
  {
   "cell_type": "code",
   "execution_count": 4,
   "id": "c9ba032f",
   "metadata": {},
   "outputs": [],
   "source": [
    "fft_2d = fft_object_2d() "
   ]
  },
  {
   "cell_type": "code",
   "execution_count": 5,
   "id": "8c4c035d",
   "metadata": {},
   "outputs": [
    {
     "data": {
      "text/plain": [
       "True"
      ]
     },
     "execution_count": 5,
     "metadata": {},
     "output_type": "execute_result"
    }
   ],
   "source": [
    "fft_2d is b"
   ]
  },
  {
   "cell_type": "raw",
   "id": "58dddf66",
   "metadata": {},
   "source": [
    "Perform the inverse transform "
   ]
  },
  {
   "cell_type": "code",
   "execution_count": 8,
   "id": "0e57af94",
   "metadata": {},
   "outputs": [],
   "source": [
    "c = pyfftw.empty_aligned((N,N ), dtype=TYPE)\n",
    "# Over both axes\n",
    "ifft_object_2d = pyfftw.FFTW(b, c, axes=(0,1), direction=\"FFTW_BACKWARD\")\n",
    "\n",
    "inv_fft_2d = ifft_object_2d() "
   ]
  },
  {
   "cell_type": "raw",
   "id": "d45e33d2",
   "metadata": {},
   "source": [
    "Check that the reverse transform actually recovers the original \n",
    "signal "
   ]
  },
  {
   "cell_type": "code",
   "execution_count": 9,
   "id": "3f65b142",
   "metadata": {},
   "outputs": [
    {
     "name": "stdout",
     "output_type": "stream",
     "text": [
      "True\n"
     ]
    }
   ],
   "source": [
    "print( np.allclose(a,c, rtol=1.e-13) )"
   ]
  },
  {
   "cell_type": "markdown",
   "id": "2878f17a",
   "metadata": {},
   "source": [
    "<div class=\"alert alert-info\"> Visual output of the signal, FFT and reverse FFT </div>"
   ]
  },
  {
   "cell_type": "code",
   "execution_count": 124,
   "id": "01eeee52",
   "metadata": {},
   "outputs": [
    {
     "data": {
      "image/png": "[encoded data removed]",
      "text/plain": [
       "<Figure size 432x288 with 3 Axes>"
      ]
     },
     "metadata": {
      "needs_background": "light"
     },
     "output_type": "display_data"
    }
   ],
   "source": [
    "import matplotlib.pyplot as plt \n",
    "\n",
    "figures,ax = plt.subplots( 1,3 )\n",
    "\n",
    "stretch = ( -np.pi, np.pi, -np.pi, +np.pi )\n",
    "wavek = ( -N/(2*np.pi), N/(2*np.pi), -N/(2*np.pi), +N/(2*np.pi) )\n",
    "ax[0].imshow( a.real, extent=stretch ), \\\n",
    "ax[1].imshow( b.real, extent=wavek ), \\\n",
    "ax[2].imshow(c.real, extent=stretch)\n",
    "plt.show() "
   ]
  },
  {
   "cell_type": "code",
   "execution_count": 10,
   "id": "b24227e6",
   "metadata": {},
   "outputs": [
    {
     "name": "stdout",
     "output_type": "stream",
     "text": [
      "Help on function fft2 in module pyfftw.builders.builders:\n",
      "\n",
      "fft2(a, s=None, axes=(-2, -1), overwrite_input=False, planner_effort=None, threads=None, auto_align_input=True, auto_contiguous=True, avoid_copy=False, norm=None)\n",
      "    Return a :class:`pyfftw.FFTW` object representing a 2D FFT.\n",
      "    \n",
      "    The first three arguments are as per :func:`numpy.fft.fft2`;\n",
      "    the rest of the arguments are documented\n",
      "    :ref:`in the module docs <builders_args>`.\n",
      "\n"
     ]
    }
   ],
   "source": [
    "help( pyfftw.builders.fft2)"
   ]
  },
  {
   "cell_type": "code",
   "execution_count": 15,
   "id": "2e8e979d",
   "metadata": {},
   "outputs": [
    {
     "name": "stdout",
     "output_type": "stream",
     "text": [
      "FFT vector b =  <class 'numpy.ndarray'> (64, 64)\n"
     ]
    }
   ],
   "source": [
    "# Using the \"builder\" functions to match types automatically \n",
    "# \n",
    "\n",
    "# We only require to setup a data type array of dimensions N x N \n",
    "#\n",
    "a = pyfftw.empty_aligned((N,N), dtype=TYPE)\n",
    "\n",
    "# Generate some data - insert in array \"a\" of type  \"complex\"\n",
    "ar, ai = np.random.randn(2, N,N )\n",
    "a[:] = ar + 1j*ai*0 \n",
    "\n",
    "# Build the fft using array \"a\" as input (no other arguements)\n",
    "#\n",
    "fft_object = pyfftw.builders.fft(a)\n",
    "\n",
    "# Perform the FFT : the array \"b\" is created holding the solution \n",
    "#\n",
    "b = fft_object()\n",
    "print( \"FFT vector b = \", type(b), b.shape )\n",
    "\n",
    "# Backward FFT - simply evoke the inverse operator ifft() \n",
    "#\n",
    "inv_fft_object = pyfftw.builders.ifft(b) \n",
    "\n",
    "c = inv_fft_object()"
   ]
  },
  {
   "cell_type": "code",
   "execution_count": 16,
   "id": "42c73536",
   "metadata": {},
   "outputs": [
    {
     "name": "stdout",
     "output_type": "stream",
     "text": [
      "True\n"
     ]
    }
   ],
   "source": [
    "print( np.allclose( a,c, rtol=1.e-15))"
   ]
  },
  {
   "cell_type": "code",
   "execution_count": 84,
   "id": "ad0c8ad5",
   "metadata": {},
   "outputs": [
    {
     "data": {
      "image/png": "[encoded data removed]",
      "text/plain": [
       "<Figure size 432x288 with 3 Axes>"
      ]
     },
     "metadata": {
      "needs_background": "light"
     },
     "output_type": "display_data"
    }
   ],
   "source": [
    "import matplotlib.pyplot as plt \n",
    "\n",
    "figures,ax = plt.subplots( 1,3 )\n",
    "\n",
    "ax[0].imshow( a.real ), ax[1].imshow( b.real ), ax[2].imshow(c.real)\n",
    "plt.show() "
   ]
  },
  {
   "cell_type": "code",
   "execution_count": 12,
   "id": "ed066f57",
   "metadata": {},
   "outputs": [
    {
     "name": "stdout",
     "output_type": "stream",
     "text": [
      "Help on function fft in module pyfftw.builders.builders:\n",
      "\n",
      "fft(a, n=None, axis=-1, overwrite_input=False, planner_effort=None, threads=None, auto_align_input=True, auto_contiguous=True, avoid_copy=False, norm=None)\n",
      "    Return a :class:`pyfftw.FFTW` object representing a 1D FFT.\n",
      "    \n",
      "    The first three arguments are as per :func:`numpy.fft.fft`;\n",
      "    the rest of the arguments are documented\n",
      "    :ref:`in the module docs <builders_args>`.\n",
      "\n"
     ]
    }
   ],
   "source": [
    "help(pyfftw.builders.fft)"
   ]
  },
  {
   "cell_type": "code",
   "execution_count": null,
   "id": "9f7f6a9d",
   "metadata": {},
   "outputs": [],
   "source": []
  }
 ],
 "metadata": {
  "kernelspec": {
   "display_name": "Python 3 (ipykernel)",
   "language": "python",
   "name": "python3"
  },
  "language_info": {
   "codemirror_mode": {
    "name": "ipython",
    "version": 3
   },
   "file_extension": ".py",
   "mimetype": "text/x-python",
   "name": "python",
   "nbconvert_exporter": "python",
   "pygments_lexer": "ipython3",
   "version": "3.8.10"
  }
 },
 "nbformat": 4,
 "nbformat_minor": 5
}

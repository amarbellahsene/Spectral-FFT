{
 "cells": [
  {
   "cell_type": "code",
   "execution_count": 1,
   "id": "2a286a80",
   "metadata": {},
   "outputs": [],
   "source": [
    "from numpy import *\n",
    "import numpy as np\n",
    "import math\n",
    "import pickle\n",
    "import pyfftw\n",
    "from IPython.display import display, Markdown, Math\n",
    "from datetime import datetime\n",
    "from matplotlib.pyplot import *"
   ]
  },
  {
   "cell_type": "code",
   "execution_count": 2,
   "id": "1c798cdc",
   "metadata": {},
   "outputs": [],
   "source": [
    "#Constants\n",
    "G=6.67428*10**-8; # cm^3 g^-1 s^-2\n",
    "kpc=3.085678*10**21; # 1kpc = 3.08 10^21 cm\n",
    "mass=10**7*2.0*10**33; # 10^7 solar mass = 2 10^33 g with ~10^4 stars\n"
   ]
  },
  {
   "cell_type": "code",
   "execution_count": 3,
   "id": "a59fb783",
   "metadata": {},
   "outputs": [
    {
     "name": "stdout",
     "output_type": "stream",
     "text": [
      "10240\n",
      "0.0\n"
     ]
    }
   ],
   "source": [
    "F = open(\"Positions_stars_3D.txt\", \"r\")\n",
    "F.seek(0)\n",
    "\n",
    "numStars=0\n",
    "while F.readline() :\n",
    "    numStars+=1\n",
    "    \n",
    "F.close()\n",
    "\n",
    "F = open(\"Positions_stars_3D.txt\", \"r\")\n",
    "star_positions = np.zeros(shape=(numStars,3))\n",
    "for i in range (numStars-1):\n",
    "    str_list = F.readline()\n",
    "    new_list = str_list.split()\n",
    "\n",
    "    star_positions[i][0] = float(new_list[0])\n",
    "    star_positions[i][1] = float(new_list[1])\n",
    "    star_positions[i][2] = float(new_list[2])\n",
    "F.close()\n",
    "\n",
    "print(numStars)\n",
    "print(star_positions[1000][2])"
   ]
  },
  {
   "cell_type": "code",
   "execution_count": 4,
   "id": "f66da3aa",
   "metadata": {},
   "outputs": [],
   "source": [
    "numPoints = 256"
   ]
  },
  {
   "cell_type": "code",
   "execution_count": 5,
   "id": "5bae4cff",
   "metadata": {},
   "outputs": [
    {
     "name": "stdout",
     "output_type": "stream",
     "text": [
      "0.200826890625\n",
      "0.1719680703125\n",
      "0.0018107421875\n",
      "1\n",
      "1\n",
      "1\n"
     ]
    }
   ],
   "source": [
    "# Compute the spacing of all cells\n",
    "Max=np.max(star_positions, axis=0)\n",
    "Min=np.min(star_positions, axis=0)\n",
    "\n",
    "Max_x=Max[0]\n",
    "Min_x=Min[0]\n",
    "Max_y=Max[1]\n",
    "Min_y=Min[1]\n",
    "Max_z=Max[2]\n",
    "Min_z=Min[2]\n",
    "\n",
    "\n",
    "\n",
    "if (Max_x>abs(Min_x)):\n",
    "    space_x=Max_x/(numPoints/2)\n",
    "    add_correction_x=0\n",
    "else:\n",
    "    space_x=abs(Min_x)/(numPoints/2)\n",
    "    add_correction_x=1\n",
    "\n",
    "if (Max_y>abs(Min_y)):\n",
    "    space_y=Max_y/(numPoints/2)\n",
    "    add_correction_y=0\n",
    "else:\n",
    "    space_y=abs(Min_y)/(numPoints/2)\n",
    "    add_correction_y=1\n",
    "    \n",
    "if (Max_z>abs(Min_z)):\n",
    "    space_z=Max_z/(numPoints/2)\n",
    "    add_correction_z=0\n",
    "else:\n",
    "    space_z=abs(Min_z)/(numPoints/2)\n",
    "    add_correction_z=1\n",
    "    \n",
    "print(space_x)\n",
    "print(space_y)\n",
    "print(space_z)\n",
    "print(add_correction_x)\n",
    "print(add_correction_y)\n",
    "print(add_correction_z)"
   ]
  },
  {
   "cell_type": "code",
   "execution_count": 6,
   "id": "d4d26406",
   "metadata": {},
   "outputs": [],
   "source": [
    "TYPE = \"complex128\"\n",
    "# Initialization of Green and density\n",
    "green_grid = pyfftw.empty_aligned((numPoints,numPoints,numPoints), dtype=TYPE)\n",
    "density_grid = pyfftw.empty_aligned((numPoints,numPoints,numPoints), dtype=TYPE)"
   ]
  },
  {
   "cell_type": "code",
   "execution_count": 7,
   "id": "db7ee2ac",
   "metadata": {},
   "outputs": [
    {
     "name": "stdout",
     "output_type": "stream",
     "text": [
      "136\n",
      "160\n",
      "152\n"
     ]
    }
   ],
   "source": [
    "# Computing the density for each cell with Cloud-in-cell method\n",
    "for i in range (numStars-1):\n",
    "    #Computing node positions on mesh\n",
    "    #floor takes each element of the array to the nearest integer less than or equal to \n",
    "    #that element\n",
    "    #Une sorte de normalisation des valeurs de x pour leur assigner une coordonnée en i,j avec\n",
    "    #i et j allant de 0 a 255\n",
    "    \n",
    "    node_x = int(math.floor(star_positions[i][0]/space_x) + (numPoints/2 + add_correction_x))-1\n",
    "    node_y = int(math.floor(star_positions[i][1]/space_y) + (numPoints/2 + add_correction_y))-1\n",
    "    node_z = int(math.floor(star_positions[i][2]/space_z) + (numPoints/2 + add_correction_z))-1\n",
    "    \n",
    "    #Set the CIC size fractions using fmod \n",
    "    dx = math.fmod(abs(star_positions[i][0]),space_x)/space_x\n",
    "    dy = math.fmod(abs(star_positions[i][1]),space_y)/space_y\n",
    "    dz = math.fmod(abs(star_positions[i][2]),space_z)/space_z\n",
    "    tx = 1.0 - dx\n",
    "    ty = 1.0 - dy\n",
    "    tz = 1.0 - dz\n",
    "    \n",
    "    #Adding for setting CIC size fractions\n",
    "    #Version with (i,j) centered on cells\n",
    "    #Begining of the mesh on x condition \n",
    "    if ((dx < 0.5) and (node_x == 0)):\n",
    "        frac_x = dx\n",
    "        neighboor_x = 0\n",
    "        epsilon_x = 0\n",
    "   #End of the mesh on x condition\n",
    "    elif ((dx > 0.5) and (node_x == numPoints-1)) :\n",
    "        frac_x = dx - 0.5\n",
    "        neighboor_x = 0\n",
    "        epsilon_x = 0\n",
    "    #Not on the borders of the mesh on x\n",
    "    elif (dx < 0.5):\n",
    "        frac_x = dx + 0.5\n",
    "        neighboor_x = -1\n",
    "        epsilon_x = 1\n",
    "    else : \n",
    "        frac_x = tx + 0.5\n",
    "        neighboor_x = 1\n",
    "        epsilon_x = 1\n",
    "    \n",
    "    #Begining of the mesh on y condition \n",
    "    if ((dy < 0.5) and (node_y == 0)):\n",
    "        frac_y = dy\n",
    "        neighboor_y = 0\n",
    "        epsilon_y = 0\n",
    "    #End of the mesh on y condition \n",
    "    elif ((dy > 0.5) and (node_y == numPoints-1)):\n",
    "        frac_y = dy - 0.5\n",
    "        neighboor_y = 0\n",
    "        epsilon_y = 0\n",
    "    #Not on the borders of the mesh on y\n",
    "    elif (dy < 0.5):\n",
    "        frac_y = dy + 0.5\n",
    "        neighboor_y = -1\n",
    "        epsilon_y = 1\n",
    "    else: \n",
    "        frac_y = ty + 0.5\n",
    "        neighboor_y = 1\n",
    "        epsilon_y = 1\n",
    "    \n",
    "    #Begining of the mesh on z condition \n",
    "    if ((dz < 0.5) and (node_z == 0)):\n",
    "        frac_z = dz\n",
    "        neighboor_z = 0\n",
    "        epsilon_z = 0\n",
    "    #End of the mesh on y condition \n",
    "    elif ((dz > 0.5) and (node_z == numPoints-1)):\n",
    "        frac_z = dz - 0.5\n",
    "        neighboor_z = 0\n",
    "        epsilon_z= 0\n",
    "    #Not on the borders of the mesh on y\n",
    "    elif (dz < 0.5):\n",
    "        frac_z = dz + 0.5\n",
    "        neighboor_z = -1\n",
    "        epsilon_z = 1\n",
    "    else: \n",
    "        frac_z = tz + 0.5\n",
    "        neighboor_z = 1\n",
    "        epsilon_z = 1\n",
    "    \n",
    "    #Computation of the Density with CIC fractions in each points given \n",
    "    density_grid[node_x][node_y][node_z] = density_grid[node_x][node_y][node_z] + mass*(frac_x*frac_y*frac_z)/(space_x*space_y*space_z)\n",
    "    \n",
    "    density_grid[node_x+neighboor_x][node_y][node_z] = density_grid[node_x+neighboor_x][node_y][node_z] + mass*(epsilon_x*(1.0-frac_x)*frac_y*frac_z)/(space_x*space_y*space_z)\n",
    "\n",
    "    density_grid[node_x][node_y+neighboor_y][node_z] = density_grid[node_x][node_y+neighboor_y][node_z] + mass*(frac_x*epsilon_y*(1.0-frac_y)*frac_z)/(space_x*space_y*space_z)\n",
    "    \n",
    "    density_grid[node_x+neighboor_x][node_y+neighboor_y][node_z] = density_grid[node_x+neighboor_x][node_y+neighboor_y][node_z] + mass*(epsilon_x*(1.0-frac_x)*epsilon_y*(1.0-frac_y)*frac_z)/(space_x*space_y*space_z)\n",
    "    \n",
    "    density_grid[node_x][node_y][node_z+neighboor_z] = density_grid[node_x][node_y][node_z+neighboor_z] + mass*(frac_x*frac_y*epsilon_z*(1.0-frac_z))/(space_x*space_y*space_z)\n",
    "    \n",
    "    density_grid[node_x][node_y + neighboor_y][node_z+neighboor_z] = density_grid[node_x][node_y + neighboor_y][node_z+neighboor_z] + mass*(frac_x*epsilon_y*(1.0-frac_y)*epsilon_z*(1.0-frac_z))/(space_x*space_y*space_z)\n",
    "    \n",
    "    density_grid[node_x + neighboor_x][node_y][node_z+neighboor_z] = density_grid[node_x + neighboor_x][node_y][node_z+neighboor_z] + mass*(epsilon_x*(1.0-frac_x)*frac_y*epsilon_z*(1.0-frac_z))/(space_x*space_y*space_z)\n",
    "    \n",
    "    density_grid[node_x + neighboor_x][node_y + neighboor_y][node_z + neighboor_z] = density_grid[node_x + neighboor_x][node_y+neighboor_y][node_z+neighboor_z] + mass*(epsilon_x*(1.0-frac_x)*epsilon_y*(1.0-frac_y)*epsilon_z*(1.0-frac_z))/(space_x*space_y*space_z)\n",
    "\n",
    "    \n",
    "    \n",
    "density_grid_tr = pyfftw.empty_aligned((numPoints,numPoints, numPoints), dtype=TYPE)\n",
    "\n",
    "density_grid_tr = density_grid.T\n",
    "\n",
    "print(node_x)\n",
    "print(node_y)\n",
    "print(node_z)"
   ]
  },
  {
   "cell_type": "code",
   "execution_count": 8,
   "id": "b6cdd7ab",
   "metadata": {},
   "outputs": [
    {
     "name": "stdout",
     "output_type": "stream",
     "text": [
      "(2.6196019869223386e+44+0j)\n"
     ]
    }
   ],
   "source": [
    "print(density_grid[node_x][node_y][node_z])"
   ]
  },
  {
   "cell_type": "code",
   "execution_count": 9,
   "id": "3ecf1dbb",
   "metadata": {},
   "outputs": [],
   "source": [
    "#Computing discretized Green's function\n",
    "for i in range (numPoints):\n",
    "    for j in range (numPoints):\n",
    "        for k in range (numPoints):\n",
    "            dx = np.sqrt((i-numPoints/2-add_correction_x)*(i-numPoints/2-add_correction_x))*space_x\n",
    "            dy = np.sqrt((j-numPoints/2-add_correction_y)*(j-numPoints/2-add_correction_y))*space_y\n",
    "            dy = np.sqrt((k-numPoints/2-add_correction_z)*(k-numPoints/2-add_correction_z))*space_z\n",
    "\n",
    "        #Discretized Green's function  \n",
    "        if (i!=int(numPoints/2+add_correction_x) and j!=int(numPoints/2+add_correction_y) and k!=int(numPoints/2+add_correction_z)):\n",
    "            green_grid[i][j][k] = -1.0/(4.0*np.pi*np.sqrt(dx*dx + dy*dy + dz*dz))\n",
    "        #Avoid division by 0\n",
    "        else :\n",
    "            green_grid[i][j][k] = 1.0 \n"
   ]
  },
  {
   "cell_type": "code",
   "execution_count": 10,
   "id": "2c872d9e",
   "metadata": {},
   "outputs": [],
   "source": [
    "TYPE = \"complex128\"\n",
    "tf_green = pyfftw.empty_aligned((numPoints,numPoints,numPoints), dtype=TYPE)\n",
    "tf_density = pyfftw.empty_aligned((numPoints,numPoints,numPoints), dtype=TYPE)\n",
    "ifft_potentiel = pyfftw.empty_aligned((numPoints,numPoints,numPoints), dtype=TYPE)"
   ]
  },
  {
   "cell_type": "code",
   "execution_count": 11,
   "id": "08b2fab3",
   "metadata": {},
   "outputs": [],
   "source": [
    "fft_object_green = pyfftw.FFTW(green_grid, tf_green, axes=(0,1))\n",
    "\n",
    "fft_object_density = pyfftw.FFTW(density_grid_tr, tf_density, axes=(0,1))\n",
    "\n",
    "tf_green = fft_object_green(green_grid)\n",
    "\n",
    "tf_density = fft_object_density(density_grid_tr)\n",
    "\n",
    "tf_product = pyfftw.empty_aligned((numPoints,numPoints, numPoints), dtype=TYPE)\n",
    "\n",
    "tf_product = 4*np.pi*G*tf_green*tf_density\n",
    "\n",
    "potential_grid = pyfftw.empty_aligned((numPoints,numPoints, numPoints), dtype=TYPE)\n",
    "\n",
    "ifft_object_3d = pyfftw.FFTW(tf_product, potential_grid, axes=(0,1), direction=\"FFTW_BACKWARD\")\n",
    "\n",
    "potential = np.zeros((numPoints,numPoints,numPoints))\n",
    "\n",
    "potential_grid = ifft_object_3d(tf_product)\n",
    "\n",
    "potential = potential_grid.real*(space_x*space_y*space_z)/kpc\n",
    "\n",
    "potential_shift=np.fft.fftshift(potential)"
   ]
  },
  {
   "cell_type": "code",
   "execution_count": 13,
   "id": "696fc02a",
   "metadata": {},
   "outputs": [
    {
     "ename": "TypeError",
     "evalue": "Invalid shape (256, 256, 256) for image data",
     "output_type": "error",
     "traceback": [
      "\u001b[0;31m---------------------------------------------------------------------------\u001b[0m",
      "\u001b[0;31mTypeError\u001b[0m                                 Traceback (most recent call last)",
      "\u001b[0;32m/tmp/ipykernel_11476/3230290567.py\u001b[0m in \u001b[0;36m<module>\u001b[0;34m\u001b[0m\n\u001b[1;32m      2\u001b[0m \u001b[0mstretch\u001b[0m \u001b[0;34m=\u001b[0m \u001b[0;34m(\u001b[0m\u001b[0;34m-\u001b[0m\u001b[0;34m(\u001b[0m\u001b[0mnumPoints\u001b[0m\u001b[0;34m/\u001b[0m\u001b[0;36m2\u001b[0m\u001b[0;34m+\u001b[0m\u001b[0madd_correction_x\u001b[0m\u001b[0;34m)\u001b[0m\u001b[0;34m,\u001b[0m \u001b[0;34m+\u001b[0m\u001b[0mnumPoints\u001b[0m\u001b[0;34m/\u001b[0m\u001b[0;36m2\u001b[0m\u001b[0;34m+\u001b[0m\u001b[0madd_correction_x\u001b[0m\u001b[0;34m,\u001b[0m \u001b[0;34m-\u001b[0m\u001b[0;34m(\u001b[0m\u001b[0mnumPoints\u001b[0m\u001b[0;34m/\u001b[0m\u001b[0;36m2\u001b[0m\u001b[0;34m+\u001b[0m\u001b[0madd_correction_x\u001b[0m\u001b[0;34m)\u001b[0m\u001b[0;34m,\u001b[0m \u001b[0mnumPoints\u001b[0m\u001b[0;34m/\u001b[0m\u001b[0;36m2\u001b[0m\u001b[0;34m+\u001b[0m\u001b[0madd_correction_x\u001b[0m\u001b[0;34m,\u001b[0m \u001b[0;34m)\u001b[0m\u001b[0;34m\u001b[0m\u001b[0;34m\u001b[0m\u001b[0m\n\u001b[1;32m      3\u001b[0m \u001b[0;34m\u001b[0m\u001b[0m\n\u001b[0;32m----> 4\u001b[0;31m \u001b[0max\u001b[0m\u001b[0;34m[\u001b[0m\u001b[0;36m0\u001b[0m\u001b[0;34m]\u001b[0m\u001b[0;34m.\u001b[0m\u001b[0mimshow\u001b[0m\u001b[0;34m(\u001b[0m\u001b[0mabs\u001b[0m\u001b[0;34m(\u001b[0m\u001b[0mpotential_shift\u001b[0m\u001b[0;34m)\u001b[0m\u001b[0;34m,\u001b[0m\u001b[0mextent\u001b[0m\u001b[0;34m=\u001b[0m\u001b[0mstretch\u001b[0m\u001b[0;34m)\u001b[0m\u001b[0;34m,\u001b[0m\u001b[0;31m\\\u001b[0m\u001b[0;34m\u001b[0m\u001b[0;34m\u001b[0m\u001b[0m\n\u001b[0m\u001b[1;32m      5\u001b[0m \u001b[0;34m\u001b[0m\u001b[0m\n\u001b[1;32m      6\u001b[0m \u001b[0max\u001b[0m\u001b[0;34m[\u001b[0m\u001b[0;36m1\u001b[0m\u001b[0;34m]\u001b[0m\u001b[0;34m.\u001b[0m\u001b[0mimshow\u001b[0m\u001b[0;34m(\u001b[0m\u001b[0mpotential\u001b[0m\u001b[0;34m,\u001b[0m\u001b[0mextent\u001b[0m\u001b[0;34m=\u001b[0m\u001b[0mstretch\u001b[0m\u001b[0;34m)\u001b[0m\u001b[0;34m\u001b[0m\u001b[0;34m\u001b[0m\u001b[0m\n",
      "\u001b[0;32m~/.local/lib/python3.8/site-packages/matplotlib/__init__.py\u001b[0m in \u001b[0;36minner\u001b[0;34m(ax, data, *args, **kwargs)\u001b[0m\n\u001b[1;32m   1359\u001b[0m     \u001b[0;32mdef\u001b[0m \u001b[0minner\u001b[0m\u001b[0;34m(\u001b[0m\u001b[0max\u001b[0m\u001b[0;34m,\u001b[0m \u001b[0;34m*\u001b[0m\u001b[0margs\u001b[0m\u001b[0;34m,\u001b[0m \u001b[0mdata\u001b[0m\u001b[0;34m=\u001b[0m\u001b[0;32mNone\u001b[0m\u001b[0;34m,\u001b[0m \u001b[0;34m**\u001b[0m\u001b[0mkwargs\u001b[0m\u001b[0;34m)\u001b[0m\u001b[0;34m:\u001b[0m\u001b[0;34m\u001b[0m\u001b[0;34m\u001b[0m\u001b[0m\n\u001b[1;32m   1360\u001b[0m         \u001b[0;32mif\u001b[0m \u001b[0mdata\u001b[0m \u001b[0;32mis\u001b[0m \u001b[0;32mNone\u001b[0m\u001b[0;34m:\u001b[0m\u001b[0;34m\u001b[0m\u001b[0;34m\u001b[0m\u001b[0m\n\u001b[0;32m-> 1361\u001b[0;31m             \u001b[0;32mreturn\u001b[0m \u001b[0mfunc\u001b[0m\u001b[0;34m(\u001b[0m\u001b[0max\u001b[0m\u001b[0;34m,\u001b[0m \u001b[0;34m*\u001b[0m\u001b[0mmap\u001b[0m\u001b[0;34m(\u001b[0m\u001b[0msanitize_sequence\u001b[0m\u001b[0;34m,\u001b[0m \u001b[0margs\u001b[0m\u001b[0;34m)\u001b[0m\u001b[0;34m,\u001b[0m \u001b[0;34m**\u001b[0m\u001b[0mkwargs\u001b[0m\u001b[0;34m)\u001b[0m\u001b[0;34m\u001b[0m\u001b[0;34m\u001b[0m\u001b[0m\n\u001b[0m\u001b[1;32m   1362\u001b[0m \u001b[0;34m\u001b[0m\u001b[0m\n\u001b[1;32m   1363\u001b[0m         \u001b[0mbound\u001b[0m \u001b[0;34m=\u001b[0m \u001b[0mnew_sig\u001b[0m\u001b[0;34m.\u001b[0m\u001b[0mbind\u001b[0m\u001b[0;34m(\u001b[0m\u001b[0max\u001b[0m\u001b[0;34m,\u001b[0m \u001b[0;34m*\u001b[0m\u001b[0margs\u001b[0m\u001b[0;34m,\u001b[0m \u001b[0;34m**\u001b[0m\u001b[0mkwargs\u001b[0m\u001b[0;34m)\u001b[0m\u001b[0;34m\u001b[0m\u001b[0;34m\u001b[0m\u001b[0m\n",
      "\u001b[0;32m~/.local/lib/python3.8/site-packages/matplotlib/axes/_axes.py\u001b[0m in \u001b[0;36mimshow\u001b[0;34m(self, X, cmap, norm, aspect, interpolation, alpha, vmin, vmax, origin, extent, filternorm, filterrad, resample, url, **kwargs)\u001b[0m\n\u001b[1;32m   5607\u001b[0m                               resample=resample, **kwargs)\n\u001b[1;32m   5608\u001b[0m \u001b[0;34m\u001b[0m\u001b[0m\n\u001b[0;32m-> 5609\u001b[0;31m         \u001b[0mim\u001b[0m\u001b[0;34m.\u001b[0m\u001b[0mset_data\u001b[0m\u001b[0;34m(\u001b[0m\u001b[0mX\u001b[0m\u001b[0;34m)\u001b[0m\u001b[0;34m\u001b[0m\u001b[0;34m\u001b[0m\u001b[0m\n\u001b[0m\u001b[1;32m   5610\u001b[0m         \u001b[0mim\u001b[0m\u001b[0;34m.\u001b[0m\u001b[0mset_alpha\u001b[0m\u001b[0;34m(\u001b[0m\u001b[0malpha\u001b[0m\u001b[0;34m)\u001b[0m\u001b[0;34m\u001b[0m\u001b[0;34m\u001b[0m\u001b[0m\n\u001b[1;32m   5611\u001b[0m         \u001b[0;32mif\u001b[0m \u001b[0mim\u001b[0m\u001b[0;34m.\u001b[0m\u001b[0mget_clip_path\u001b[0m\u001b[0;34m(\u001b[0m\u001b[0;34m)\u001b[0m \u001b[0;32mis\u001b[0m \u001b[0;32mNone\u001b[0m\u001b[0;34m:\u001b[0m\u001b[0;34m\u001b[0m\u001b[0;34m\u001b[0m\u001b[0m\n",
      "\u001b[0;32m~/.local/lib/python3.8/site-packages/matplotlib/image.py\u001b[0m in \u001b[0;36mset_data\u001b[0;34m(self, A)\u001b[0m\n\u001b[1;32m    707\u001b[0m         if not (self._A.ndim == 2\n\u001b[1;32m    708\u001b[0m                 or self._A.ndim == 3 and self._A.shape[-1] in [3, 4]):\n\u001b[0;32m--> 709\u001b[0;31m             raise TypeError(\"Invalid shape {} for image data\"\n\u001b[0m\u001b[1;32m    710\u001b[0m                             .format(self._A.shape))\n\u001b[1;32m    711\u001b[0m \u001b[0;34m\u001b[0m\u001b[0m\n",
      "\u001b[0;31mTypeError\u001b[0m: Invalid shape (256, 256, 256) for image data"
     ]
    },
    {
     "data": {
      "image/png": "[encoded data removed]",
      "text/plain": [
       "<Figure size 432x288 with 2 Axes>"
      ]
     },
     "metadata": {
      "needs_background": "light"
     },
     "output_type": "display_data"
    }
   ],
   "source": [
    "figures,ax = subplots(1,2)\n",
    "stretch = (-(numPoints/2+add_correction_x), +numPoints/2+add_correction_x, -(numPoints/2+add_correction_x), numPoints/2+add_correction_x, )\n",
    "\n",
    "ax[0].imshow(abs(potential_shift),extent=stretch),\\\n",
    "\n",
    "ax[1].imshow(potential,extent=stretch)\n",
    "show()"
   ]
  },
  {
   "cell_type": "code",
   "execution_count": null,
   "id": "3e62d11d",
   "metadata": {},
   "outputs": [],
   "source": [
    "figures,ax = subplots(1,2)\n",
    "stretch = (-(numPoints/2+add_correction_x), +numPoints/2+add_correction_x, -(numPoints/2+add_correction_x), numPoints/2+add_correction_x)\n",
    "\n",
    "ax[0].imshow(density_grid_tr.real,extent=stretch),\\\n",
    "\n",
    "ax[1].imshow(green_grid.real,extent=stretch)\n",
    "show()"
   ]
  },
  {
   "cell_type": "code",
   "execution_count": null,
   "id": "bb6dc152",
   "metadata": {},
   "outputs": [],
   "source": [
    "for i in range (numPoints):\n",
    "    for j in range (numPoints):\n",
    "        if (green_grid[i][j]!=0):\n",
    "            print(green_grid[i][j])"
   ]
  },
  {
   "cell_type": "code",
   "execution_count": null,
   "id": "c7a1dd45",
   "metadata": {},
   "outputs": [],
   "source": [
    "for i in range (numPoints):\n",
    "    for j in range (numPoints):\n",
    "        if (density_grid[i][j]!=0):\n",
    "            print(density_grid[i][j])"
   ]
  },
  {
   "cell_type": "code",
   "execution_count": null,
   "id": "ef99d1f7",
   "metadata": {},
   "outputs": [],
   "source": [
    "for i in range (numPoints):\n",
    "    for j in range (numPoints):\n",
    "        if (tf_product[i][j]!=0):\n",
    "            print(tf_product[i][j])"
   ]
  },
  {
   "cell_type": "code",
   "execution_count": null,
   "id": "a63e5514",
   "metadata": {},
   "outputs": [],
   "source": [
    "TYPE = \"float64\"\n",
    "\n",
    "x,y = np.linspace(Min_x, Max_x, 128, dtype=TYPE), np.linspace(Min_x, Max_y, 128, dtype=TYPE)\n",
    "X,Y = np.meshgrid(x, y)"
   ]
  },
  {
   "cell_type": "code",
   "execution_count": null,
   "id": "49e2e6b9",
   "metadata": {},
   "outputs": [],
   "source": [
    "Potential_th = np.zeros((numPoints,numPoints))\n",
    "\n",
    "for i in range(128):\n",
    "    for j in range (128):\n",
    "        Potential_th[i][j]=0.0\n",
    "        #start_time = datetime.now()\n",
    "        #print(start_time)\n",
    "        for k in range (numStars-1):\n",
    "            Potential_th[i][j]=Potential_th[i][j]-G*mass/(np.sqrt((X[i][j]-star_positions[k][0])**2+(Y[i][j]-star_positions[k][1])**2)*kpc)\n",
    "        #end_time = datetime.now()\n",
    "        #print(end_time)\n"
   ]
  },
  {
   "cell_type": "code",
   "execution_count": null,
   "id": "78c69191",
   "metadata": {},
   "outputs": [],
   "source": []
  }
 ],
 "metadata": {
  "kernelspec": {
   "display_name": "Python 3 (ipykernel)",
   "language": "python",
   "name": "python3"
  },
  "language_info": {
   "codemirror_mode": {
    "name": "ipython",
    "version": 3
   },
   "file_extension": ".py",
   "mimetype": "text/x-python",
   "name": "python",
   "nbconvert_exporter": "python",
   "pygments_lexer": "ipython3",
   "version": "3.8.10"
  }
 },
 "nbformat": 4,
 "nbformat_minor": 5
}

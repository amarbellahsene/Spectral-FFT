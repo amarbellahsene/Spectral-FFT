{
 "cells": [
  {
   "cell_type": "code",
   "execution_count": null,
   "id": "2a286a80",
   "metadata": {},
   "outputs": [],
   "source": [
    "from numpy import *\n",
    "import numpy as np\n",
    "import math\n",
    "import pickle\n",
    "import pyfftw\n",
    "from IPython.display import display, Markdown, Math\n",
    "from datetime import datetime\n",
    "from matplotlib.pyplot import *"
   ]
  },
  {
   "cell_type": "code",
   "execution_count": null,
   "id": "1c798cdc",
   "metadata": {},
   "outputs": [],
   "source": [
    "#Constants\n",
    "G=6.67428*10**-8; # cm^3 g^-1 s^-2\n",
    "kpc=3.085678*10**21; # 1kpc = 3.08 10^21 cm\n",
    "mass=10**7*2.0*10**33; # 10^7 solar mass = 2 10^33 g with ~10^4 stars\n"
   ]
  },
  {
   "cell_type": "code",
   "execution_count": null,
   "id": "a59fb783",
   "metadata": {},
   "outputs": [],
   "source": [
    "F = open(\"Positions_stars_2D.txt\", \"r\")\n",
    "F.seek(0)\n",
    "\n",
    "numStars=0\n",
    "while F.readline() :\n",
    "    numStars+=1\n",
    "    \n",
    "F.close()\n",
    "\n",
    "F = open(\"Positions_stars_2D.txt\", \"r\")\n",
    "star_positions = np.zeros(shape=(numStars,2))\n",
    "for i in range (numStars-1):\n",
    "    str_list = F.readline()\n",
    "    new_list = str_list.split()\n",
    "\n",
    "    star_positions[i][0] = float(new_list[0])\n",
    "    star_positions[i][1] = float(new_list[1])\n",
    "F.close()\n",
    "\n",
    "print(numStars)\n",
    "print(star_positions[1000][1])"
   ]
  },
  {
   "cell_type": "code",
   "execution_count": null,
   "id": "f66da3aa",
   "metadata": {},
   "outputs": [],
   "source": [
    "numPoints = 256"
   ]
  },
  {
   "cell_type": "code",
   "execution_count": null,
   "id": "5bae4cff",
   "metadata": {},
   "outputs": [],
   "source": [
    "# Compute the spacing of all cells\n",
    "Max=np.max(star_positions, axis=0)\n",
    "Min=np.min(star_positions, axis=0)\n",
    "\n",
    "Max_x=Max[0]\n",
    "Min_x=Min[0]\n",
    "Max_y=Max[1]\n",
    "Min_y=Min[1]\n",
    "\n",
    "if (Max_x>abs(Min_x)):\n",
    "    space_x=Max_x/(numPoints/2)\n",
    "    add_correction_x=0\n",
    "else:\n",
    "    space_x=abs(Min_x)/(numPoints/2)\n",
    "    add_correction_x=1\n",
    "\n",
    "if (Max_y>abs(Min_y)):\n",
    "    space_y=Max_y/(numPoints/2)\n",
    "    add_correction_y=0\n",
    "else:\n",
    "    space_y=abs(Min_y)/(numPoints/2)\n",
    "    add_correction_y=1\n",
    "print(space_x)\n",
    "print(space_y)\n",
    "print(add_correction_x)\n",
    "print(add_correction_y)"
   ]
  },
  {
   "cell_type": "code",
   "execution_count": null,
   "id": "d4d26406",
   "metadata": {},
   "outputs": [],
   "source": [
    "TYPE = \"complex128\"\n",
    "# Initialization of Green and density\n",
    "green_grid = pyfftw.empty_aligned((numPoints,numPoints), dtype=TYPE)\n",
    "density_grid = pyfftw.empty_aligned((numPoints,numPoints), dtype=TYPE)"
   ]
  },
  {
   "cell_type": "code",
   "execution_count": null,
   "id": "db7ee2ac",
   "metadata": {},
   "outputs": [],
   "source": [
    "# Computing the density for each cell with Cloud-in-cell method\n",
    "for i in range (numStars-1):\n",
    "    #Computing node positions on mesh\n",
    "    #floor takes each element of the array to the nearest integer less than or equal to \n",
    "    #that element\n",
    "    #Une sorte de normalisation des valeurs de x pour leur assigner une coordonnée en i,j avec\n",
    "    #i et j allant de 0 a 255\n",
    "    \n",
    "    node_x = int(math.floor(star_positions[i][0]/space_x) + (numPoints/2 + add_correction_x))-1\n",
    "    node_y = int(math.floor(star_positions[i][1]/space_y) + (numPoints/2 + add_correction_y))-1\n",
    "    \n",
    "    #Set the CIC size fractions using fmod \n",
    "    dx = math.fmod(abs(star_positions[i][0]),space_x)/space_x\n",
    "    dy = math.fmod(abs(star_positions[i][1]),space_y)/space_y\n",
    "    tx = 1.0 - dx\n",
    "    ty = 1.0 - dy\n",
    "    \n",
    "    #Adding for setting CIC size fractions\n",
    "    #Version with (i,j) centered on cells\n",
    "    #Begining of the mesh on x condition \n",
    "    if ((dx < 0.5) and (node_x == 0)):\n",
    "        frac_x = dx\n",
    "        neighboor_x = 0\n",
    "        epsilon_x = 0\n",
    "   #End of the mesh on x condition\n",
    "    elif ((dx > 0.5) and (node_x == numPoints-1)) :\n",
    "        frac_x = dx - 0.5\n",
    "        neighboor_x = 0\n",
    "        epsilon_x = 0\n",
    "    #Not on the borders of the mesh on x\n",
    "    elif (dx < 0.5):\n",
    "        frac_x = dx + 0.5\n",
    "        neighboor_x = -1\n",
    "        epsilon_x = 1\n",
    "    else : \n",
    "        frac_x = tx + 0.5\n",
    "        neighboor_x = 1\n",
    "        epsilon_x = 1\n",
    "    \n",
    "    #Begining of the mesh on y condition \n",
    "    if ((dy < 0.5) and (node_y == 0)):\n",
    "        frac_y = dy\n",
    "        neighboor_y = 0\n",
    "        epsilon_y = 0\n",
    "    #End of the mesh on y condition \n",
    "    elif ((dy > 0.5) and (node_y == numPoints-1)):\n",
    "        frac_y = dy - 0.5\n",
    "        neighboor_y = 0\n",
    "        epsilon_y = 0\n",
    "    #Not on the borders of the mesh on y\n",
    "    elif (dy < 0.5):\n",
    "        frac_y = dy + 0.5\n",
    "        neighboor_y = -1\n",
    "        epsilon_y = 1\n",
    "    else: \n",
    "        frac_y = ty + 0.5\n",
    "        neighboor_y = 1\n",
    "        epsilon_y = 1\n",
    "   \n",
    "    #Computation of the Density with CIC fractions in each points given \n",
    "    density_grid[node_x][node_y] = density_grid[node_x][node_y] + mass*(frac_x*frac_y)/(space_x*space_y)\n",
    "    \n",
    "    density_grid[node_x+neighboor_x][node_y] = density_grid[node_x+neighboor_x][node_y] + mass*(epsilon_x*(1.0-frac_x)*frac_y)/(space_x*space_y)\n",
    "\n",
    "    density_grid[node_x][node_y+neighboor_y] = density_grid[node_x][node_y+neighboor_y] + mass*(frac_x*epsilon_y*(1.0-frac_y))/(space_x*space_y)\n",
    "    \n",
    "    density_grid[node_x+neighboor_x][node_y+neighboor_y] = density_grid[node_x+neighboor_x][node_y+neighboor_y] + mass*(epsilon_x*(1.0-frac_x)*epsilon_y*(1.0-frac_y))/(space_x*space_y)\n",
    "    \n",
    "density_grid_tr = pyfftw.empty_aligned((numPoints,numPoints), dtype=TYPE)\n",
    "\n",
    "density_grid_tr = density_grid.T\n",
    "\n",
    "print(node_x)\n",
    "print(node_y)"
   ]
  },
  {
   "cell_type": "code",
   "execution_count": null,
   "id": "b6cdd7ab",
   "metadata": {},
   "outputs": [],
   "source": [
    "print(density_grid[136][160])"
   ]
  },
  {
   "cell_type": "code",
   "execution_count": null,
   "id": "3ecf1dbb",
   "metadata": {},
   "outputs": [],
   "source": [
    "#Computing discretized Green's function\n",
    "for i in range (numPoints):\n",
    "    for j in range (numPoints):\n",
    "        dx = np.sqrt((i-numPoints/2-add_correction_x)*(i-numPoints/2-add_correction_x))*space_x\n",
    "        dy = np.sqrt((j-numPoints/2-add_correction_y)*(j-numPoints/2-add_correction_y))*space_y\n",
    "        #Discretized Green's function  \n",
    "        if (i!=int(numPoints/2+add_correction_x) and j!=int(numPoints/2+add_correction_y)):\n",
    "            green_grid[i][j] = -1.0/(4.0*np.pi*np.sqrt(dx*dx + dy*dy))\n",
    "        #Avoid division by 0\n",
    "        else :\n",
    "            green_grid[i][j] = 1.0 \n"
   ]
  },
  {
   "cell_type": "code",
   "execution_count": null,
   "id": "2c872d9e",
   "metadata": {},
   "outputs": [],
   "source": [
    "TYPE = \"complex128\"\n",
    "tf_green = pyfftw.empty_aligned((numPoints,numPoints), dtype=TYPE)\n",
    "tf_density = pyfftw.empty_aligned((numPoints,numPoints), dtype=TYPE)\n",
    "ifft_potentiel = pyfftw.empty_aligned((numPoints,numPoints), dtype=TYPE)"
   ]
  },
  {
   "cell_type": "code",
   "execution_count": null,
   "id": "08b2fab3",
   "metadata": {},
   "outputs": [],
   "source": [
    "fft_object_green = pyfftw.FFTW(green_grid, tf_green, axes=(0,1))\n",
    "\n",
    "fft_object_density = pyfftw.FFTW(density_grid_tr, tf_density, axes=(0,1))\n",
    "\n",
    "tf_green = fft_object_green(green_grid)\n",
    "\n",
    "tf_density = fft_object_density(density_grid_tr)\n",
    "\n",
    "tf_product = pyfftw.empty_aligned((numPoints,numPoints), dtype=TYPE)\n",
    "\n",
    "tf_product = 4*np.pi*G*tf_green*tf_density\n",
    "\n",
    "potential_grid = pyfftw.empty_aligned((numPoints,numPoints), dtype=TYPE)\n",
    "\n",
    "ifft_object_2d = pyfftw.FFTW(tf_product, potential_grid, axes=(0,1), direction=\"FFTW_BACKWARD\")\n",
    "\n",
    "potential = np.zeros((numPoints,numPoints))\n",
    "\n",
    "potential_grid = ifft_object_2d(tf_product)\n",
    "\n",
    "potential = potential_grid.real*(space_x*space_y)/kpc\n",
    "\n",
    "potential_shift=np.fft.fftshift(potential)"
   ]
  },
  {
   "cell_type": "code",
   "execution_count": null,
   "id": "696fc02a",
   "metadata": {},
   "outputs": [],
   "source": [
    "figures,ax = subplots(1,2)\n",
    "stretch = (-(numPoints/2+add_correction_x), +numPoints/2+add_correction_x, -(numPoints/2+add_correction_x), numPoints/2+add_correction_x)\n",
    "\n",
    "ax[0].imshow(abs(potential_shift),extent=stretch),\\\n",
    "\n",
    "ax[1].imshow(potential,extent=stretch)\n",
    "show()"
   ]
  },
  {
   "cell_type": "code",
   "execution_count": null,
   "id": "3e62d11d",
   "metadata": {},
   "outputs": [],
   "source": [
    "figures,ax = subplots(1,2)\n",
    "stretch = (-(numPoints/2+add_correction_x), +numPoints/2+add_correction_x, -(numPoints/2+add_correction_x), numPoints/2+add_correction_x)\n",
    "\n",
    "ax[0].imshow(density_grid_tr.real,extent=stretch),\\\n",
    "\n",
    "ax[1].imshow(green_grid.real,extent=stretch)\n",
    "show()"
   ]
  },
  {
   "cell_type": "code",
   "execution_count": null,
   "id": "bb6dc152",
   "metadata": {},
   "outputs": [],
   "source": [
    "for i in range (numPoints):\n",
    "    for j in range (numPoints):\n",
    "        if (green_grid[i][j]!=0):\n",
    "            print(green_grid[i][j])"
   ]
  },
  {
   "cell_type": "code",
   "execution_count": null,
   "id": "c7a1dd45",
   "metadata": {},
   "outputs": [],
   "source": [
    "for i in range (numPoints):\n",
    "    for j in range (numPoints):\n",
    "        if (density_grid[i][j]!=0):\n",
    "            print(density_grid[i][j])"
   ]
  },
  {
   "cell_type": "code",
   "execution_count": null,
   "id": "ef99d1f7",
   "metadata": {},
   "outputs": [],
   "source": [
    "for i in range (numPoints):\n",
    "    for j in range (numPoints):\n",
    "        if (tf_product[i][j]!=0):\n",
    "            print(tf_product[i][j])"
   ]
  },
  {
   "cell_type": "code",
   "execution_count": null,
   "id": "a63e5514",
   "metadata": {},
   "outputs": [],
   "source": [
    "TYPE = \"float64\"\n",
    "\n",
    "x,y = np.linspace(Min_x, Max_x, numPoints, dtype=TYPE), np.linspace(Min_x, Max_y, numPoints, dtype=TYPE)\n",
    "X,Y = np.meshgrid(x, y)"
   ]
  },
  {
   "cell_type": "code",
   "execution_count": null,
   "id": "49e2e6b9",
   "metadata": {},
   "outputs": [],
   "source": [
    "Potential_th = np.zeros((numPoints,numPoints))\n",
    "\n",
    "for i in range(numPoints):\n",
    "    for j in range (numPoints):\n",
    "        Potential_th[i][j]=0.0\n",
    "        #start_time = datetime.now()\n",
    "        #print(start_time)\n",
    "        for k in range (numStars-1):\n",
    "            Potential_th[i][j]=Potential_th[i][j]-G*mass/(np.sqrt((X[i][j]-star_positions[k][0])**2+(Y[i][j]-star_positions[k][1])**2)*kpc)\n",
    "        #end_time = datetime.now()\n",
    "        #print(end_time)\n"
   ]
  },
  {
   "cell_type": "code",
   "execution_count": null,
   "id": "78c69191",
   "metadata": {},
   "outputs": [],
   "source": []
  }
 ],
 "metadata": {
  "kernelspec": {
   "display_name": "Python 3 (ipykernel)",
   "language": "python",
   "name": "python3"
  },
  "language_info": {
   "codemirror_mode": {
    "name": "ipython",
    "version": 3
   },
   "file_extension": ".py",
   "mimetype": "text/x-python",
   "name": "python",
   "nbconvert_exporter": "python",
   "pygments_lexer": "ipython3",
   "version": "3.8.10"
  }
 },
 "nbformat": 4,
 "nbformat_minor": 5
}
